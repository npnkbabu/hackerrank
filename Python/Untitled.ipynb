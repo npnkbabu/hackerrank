{
 "cells": [
  {
   "cell_type": "code",
   "execution_count": 24,
   "metadata": {},
   "outputs": [
    {
     "name": "stdout",
     "output_type": "stream",
     "text": [
      "   1   1   1   1\n",
      "   2   2   2  10\n",
      "   3   3   3  11\n",
      "   4   4   4 100\n",
      "   5   5   5 101\n",
      "   6   6   6 110\n",
      "   7   7   7 111\n",
      "   8  10   81000\n",
      "   9  11   91001\n",
      "  10  12   A1010\n",
      "  11  13   B1011\n",
      "  12  14   C1100\n"
     ]
    }
   ],
   "source": [
    "#given integer print Dec,Oct,Hex(CAP),Binary\n",
    "def numprint(num):\n",
    "    w = len(bin(num)[2:])\n",
    "    for i in range(1,num+1):\n",
    "        print(str(i).rjust(w, ' '),oct(i)[2:].rjust(w, ' '),hex(i).upper()[2:].rjust(w, ' '),bin(i)[2:].rjust(w, ' '))\n",
    "\n",
    "numprint(12)"
   ]
  },
  {
   "cell_type": "code",
   "execution_count": 83,
   "metadata": {},
   "outputs": [
    {
     "name": "stdout",
     "output_type": "stream",
     "text": [
      "3 for 4\n",
      "2 for 6\n",
      "2 for 5\n",
      "2 for 3\n",
      "2 for 3\n",
      "1 for 1\n",
      "3\n"
     ]
    }
   ],
   "source": [
    "#find max number of elements of subaray of a such that abs diff between any 2 ele is <=1\n",
    "#means longest seq of same number or num+1\n",
    "# use window technique to dynamicall strech\n",
    "def pickingNumbers(l):\n",
    "    maximum=0\n",
    "    for i in l:\n",
    "        c=l.count(i)\n",
    "        d=l.count(i-1)\n",
    "        c=c+d\n",
    "        if c > maximum:\n",
    "            maximum=c\n",
    "    print(maximum)\n",
    "        \n",
    "        \n",
    "\n",
    "pickingNumbers([4, 6, 5, 3 ,3, 1])"
   ]
  },
  {
   "cell_type": "code",
   "execution_count": 89,
   "metadata": {},
   "outputs": [
    {
     "data": {
      "text/plain": [
       "0"
      ]
     },
     "execution_count": 89,
     "metadata": {},
     "output_type": "execute_result"
    }
   ],
   "source": [
    "def hurdleRace(k, height):\n",
    "    if max(height)< k:\n",
    "        return 0\n",
    "    return max(height)-k\n",
    "\n",
    "hurdleRace(7,[2, 5, 4, 5, 2] )"
   ]
  },
  {
   "cell_type": "code",
   "execution_count": null,
   "metadata": {},
   "outputs": [],
   "source": []
  }
 ],
 "metadata": {
  "kernelspec": {
   "display_name": "Python 3",
   "language": "python",
   "name": "python3"
  },
  "language_info": {
   "codemirror_mode": {
    "name": "ipython",
    "version": 3
   },
   "file_extension": ".py",
   "mimetype": "text/x-python",
   "name": "python",
   "nbconvert_exporter": "python",
   "pygments_lexer": "ipython3",
   "version": "3.6.10"
  }
 },
 "nbformat": 4,
 "nbformat_minor": 4
}
