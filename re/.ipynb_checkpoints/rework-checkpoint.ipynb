{
 "cells": [
  {
   "cell_type": "code",
   "execution_count": 2,
   "metadata": {},
   "outputs": [],
   "source": [
    "import numpy as np\n",
    "import pandas as pd\n",
    "import re"
   ]
  },
  {
   "cell_type": "code",
   "execution_count": 7,
   "metadata": {},
   "outputs": [
    {
     "name": "stdout",
     "output_type": "stream",
     "text": [
      "<_sre.SRE_Match object; span=(0, 10), match='9587456281'>\n"
     ]
    }
   ],
   "source": [
    "#A valid mobile number is a ten digit number starting with a 7,8 or9 .\n",
    "num='9587456281'\n",
    "exp=r'[789]\\d{9}$'\n",
    "print(re.match(exp,num))"
   ]
  },
  {
   "cell_type": "code",
   "execution_count": null,
   "metadata": {},
   "outputs": [],
   "source": [
    "'''\n",
    "It's composed of a username, domain name, and extension assembled in this format: username@domain.extension\n",
    "The username starts with an English alphabetical character, and any subsequent characters \n",
    "consist of one or more of the following: alphanumeric characters, -,., and _.\n",
    "The domain and extension contain only English alphabetical characters.\n",
    "The extension is 1, 2, or 3 characters in length.\n",
    "'''"
   ]
  },
  {
   "cell_type": "code",
   "execution_count": 25,
   "metadata": {},
   "outputs": [],
   "source": [
    "em='VIRUS <virus!@variable.:p>'\n",
    "em1='<dexter@hotmail.com>'\n",
    "\n",
    "exp=r'^\\w* <[a-zA-Z][.\\-_a-zA-Z0-9]+@[a-zA-Z]+\\.[a-z]{1,3}>$'\n",
    "if re.match(exp,em):\n",
    "    print(em)"
   ]
  },
  {
   "cell_type": "code",
   "execution_count": null,
   "metadata": {},
   "outputs": [],
   "source": [
    "'''\n",
    "It must start with a '#' symbol.\n",
    "It can have 3 or 6 digits.\n",
    "Each digit is in the range of 0 to F. ( 1,2,3,4,5,6,7,8,9,0,A,B,C,D,E and F).\n",
    "A-F letters can be lower case. ( a,b,c,d,e and f are also valid digits).\n",
    "'''"
   ]
  },
  {
   "cell_type": "code",
   "execution_count": null,
   "metadata": {},
   "outputs": [],
   "source": []
  }
 ],
 "metadata": {
  "kernelspec": {
   "display_name": "Python 3",
   "language": "python",
   "name": "python3"
  },
  "language_info": {
   "codemirror_mode": {
    "name": "ipython",
    "version": 3
   },
   "file_extension": ".py",
   "mimetype": "text/x-python",
   "name": "python",
   "nbconvert_exporter": "python",
   "pygments_lexer": "ipython3",
   "version": "3.6.10"
  }
 },
 "nbformat": 4,
 "nbformat_minor": 4
}
