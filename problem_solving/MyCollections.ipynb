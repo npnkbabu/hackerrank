{
 "cells": [
  {
   "cell_type": "code",
   "execution_count": 35,
   "metadata": {},
   "outputs": [],
   "source": [
    "class Stack:\n",
    "    \n",
    "    def __init__(self):\n",
    "        self.lst=[]\n",
    "        \n",
    "    def push(self,element):\n",
    "        self.lst.append(element)\n",
    "        print('pushed :',element)\n",
    "        \n",
    "    def pop(self):\n",
    "        if self.size() > 0:\n",
    "            s= self.lst.pop()\n",
    "            print('popped : ',s)\n",
    "            return s\n",
    "        else:\n",
    "            return None\n",
    "        \n",
    "    def size(self):\n",
    "        return len(self.lst)\n",
    "    \n",
    "    def peak(self):\n",
    "        if (len(self.lst) >0):\n",
    "            return self.lst[0]\n",
    "    \n",
    "    def __str__(self):\n",
    "        returnstr='stack : '\n",
    "        for x in self.lst:\n",
    "            returnstr += str(x)+' '\n",
    "        return returnstr\n"
   ]
  },
  {
   "cell_type": "code",
   "execution_count": 33,
   "metadata": {},
   "outputs": [],
   "source": [
    "class Queue:\n",
    "    \n",
    "    def __init__(self):\n",
    "        print('Queue initialized')\n",
    "        self.lst = []\n",
    "        \n",
    "    def enqueue(self,element):\n",
    "        self.lst.append(element)\n",
    "        print('Enqueued : ',element)\n",
    "        \n",
    "    def dequeue(self):\n",
    "        if self.size() > 0:\n",
    "            element = self.lst.pop(0)\n",
    "            print('Dequeued : ',element)\n",
    "            return element\n",
    "        else:\n",
    "            return None\n",
    "        \n",
    "    def size(self):\n",
    "        return len(self.lst)\n",
    "    \n",
    "    def peak(self):\n",
    "        if (len(self.lst) >0):\n",
    "            return self.lst[0]\n",
    "    \n",
    "    def __str__(self):\n",
    "        returnstring = 'Queue : '\n",
    "        for x in self.lst:\n",
    "            returnstring += str(x)+' '\n",
    "        return returnstring"
   ]
  },
  {
   "cell_type": "code",
   "execution_count": 36,
   "metadata": {},
   "outputs": [],
   "source": [
    "from collections import defaultdict\n",
    "class Graph:\n",
    "    \n",
    "    def __init__(self):\n",
    "        print('Graph instatiated')\n",
    "        self.graph = defaultdict(list)\n",
    "        \n",
    "    def addVertex(self,parent,child=None):\n",
    "        if child:\n",
    "            self.graph[parent].append(child)\n",
    "        else:\n",
    "            self.graph[parent].append([])\n",
    "        \n",
    "    def __str__(self):\n",
    "        returnstr = ''\n",
    "        for k,v in self.graph.items():\n",
    "            returnstr += str(k)+'-->'+''.join([str(x) for x in v]) + '\\r\\n'\n",
    "        return returnstr\n",
    "    def getparent(self,root):\n",
    "        for k,v in self.graph.items():\n",
    "            if root in v:\n",
    "                return k\n"
   ]
  },
  {
   "cell_type": "code",
   "execution_count": null,
   "metadata": {},
   "outputs": [],
   "source": []
  }
 ],
 "metadata": {
  "kernelspec": {
   "display_name": "Python 3",
   "language": "python",
   "name": "python3"
  },
  "language_info": {
   "codemirror_mode": {
    "name": "ipython",
    "version": 3
   },
   "file_extension": ".py",
   "mimetype": "text/x-python",
   "name": "python",
   "nbconvert_exporter": "python",
   "pygments_lexer": "ipython3",
   "version": "3.6.10"
  }
 },
 "nbformat": 4,
 "nbformat_minor": 4
}
