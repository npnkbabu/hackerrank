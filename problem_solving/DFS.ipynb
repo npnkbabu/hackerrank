{
 "cells": [
  {
   "cell_type": "code",
   "execution_count": 1,
   "metadata": {},
   "outputs": [],
   "source": [
    "#depth first search\n",
    "#traverse the tree for non traversed nodes,and push element in stack and collect node. once you reach any dead end then\n",
    "#pop teh element from stack and backtrack untill you find non traversed node."
   ]
  },
  {
   "cell_type": "code",
   "execution_count": 1,
   "metadata": {},
   "outputs": [],
   "source": [
    "from collections import defaultdict\n",
    "from MyCollections.MyCollections import Stack\n",
    "from MyCollections.MyCollections import Graph"
   ]
  },
  {
   "cell_type": "code",
   "execution_count": 2,
   "metadata": {},
   "outputs": [],
   "source": [
    "graph = {\n",
    "    'A' : ['B','C'],\n",
    "    'B' : ['D', 'E'],\n",
    "    'C' : ['F'],\n",
    "    'D' : [],\n",
    "    'E' : [],\n",
    "    'F' : []\n",
    "}"
   ]
  },
  {
   "cell_type": "code",
   "execution_count": 43,
   "metadata": {},
   "outputs": [],
   "source": [
    "class DFS:\n",
    "    def __init__(self,graph):\n",
    "        print('instantiated')\n",
    "        self.visited = set()\n",
    "        self.stack = Stack()\n",
    "        self.result = ''\n",
    "        self.graph = graph\n",
    "        \n",
    "    def process(self,root):\n",
    "        self.dfsutil(root)\n",
    "        print(self.result)\n",
    "    \n",
    "    def printstack(self):\n",
    "        print(self.stack)\n",
    "        \n",
    "    def dfsutil(self,root):\n",
    "        if root not in self.visited:\n",
    "            self.visited.add(root)\n",
    "            self.stack.push(root)\n",
    "            self.result += str(root)\n",
    "            #if all children or visited or no children then go back to previous node\n",
    "            if (len(self.graph[root]) == 0 or self.allchildvisited(root)):\n",
    "                self.dfsutil(self.stack.peak())\n",
    "            else:\n",
    "                for child in self.graph[root]:\n",
    "                    self.dfsutil(child)\n",
    "    \n",
    "    def allchildvisited(self,root):\n",
    "        for child in self.graph[root]:\n",
    "            if child not in self.visited:\n",
    "                return False\n",
    "        return True\n"
   ]
  },
  {
   "cell_type": "code",
   "execution_count": 45,
   "metadata": {},
   "outputs": [
    {
     "name": "stdout",
     "output_type": "stream",
     "text": [
      "instantiated\n",
      "pushed : C\n",
      "pushed : F\n",
      "CF\n",
      "stack : C F \n"
     ]
    }
   ],
   "source": [
    "dfs = DFS(graph)\n",
    "dfs.process('C')\n",
    "dfs.printstack()"
   ]
  },
  {
   "cell_type": "code",
   "execution_count": null,
   "metadata": {},
   "outputs": [],
   "source": []
  }
 ],
 "metadata": {
  "kernelspec": {
   "display_name": "Python 3",
   "language": "python",
   "name": "python3"
  },
  "language_info": {
   "codemirror_mode": {
    "name": "ipython",
    "version": 3
   },
   "file_extension": ".py",
   "mimetype": "text/x-python",
   "name": "python",
   "nbconvert_exporter": "python",
   "pygments_lexer": "ipython3",
   "version": "3.6.10"
  }
 },
 "nbformat": 4,
 "nbformat_minor": 4
}
