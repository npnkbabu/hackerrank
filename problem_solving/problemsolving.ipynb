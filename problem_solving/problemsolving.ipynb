{
 "cells": [
  {
   "cell_type": "code",
   "execution_count": 2,
   "metadata": {},
   "outputs": [],
   "source": [
    "#Apple and Orange\n",
    "#https://www.hackerrank.com/challenges/apple-and-orange/problem\n",
    "import math\n",
    "import os\n",
    "import random\n",
    "import re\n",
    "import sys\n",
    "import numpy as np\n",
    "import pandas as pd\n",
    "def countApplesAndOranges(s, t, a, b, apples, oranges):\n",
    "    print(sum(s <= a + d <= t for d in apples))\n",
    "    print(sum(s <= b + d <= t for d in oranges))"
   ]
  },
  {
   "cell_type": "code",
   "execution_count": 42,
   "metadata": {},
   "outputs": [
    {
     "name": "stdout",
     "output_type": "stream",
     "text": [
      "0\n",
      "0\n"
     ]
    }
   ],
   "source": [
    "#countApplesAndOranges(7,11,5,15,[-2,2,1],[5,-6])\n",
    "countApplesAndOranges(2,3,1,5,[-2],[-1])"
   ]
  },
  {
   "cell_type": "code",
   "execution_count": 46,
   "metadata": {},
   "outputs": [],
   "source": [
    "def kangaroo(x1, v1, x2, v2):\n",
    "    if(x1 > x2 and v1 > v2):\n",
    "        print('NO')\n",
    "    elif(x2>x1 and v2>v1):\n",
    "        print('NO')\n",
    "    else:\n",
    "        #max x1,x2=10000\n",
    "        count=1\n",
    "        while(count <= 10000):\n",
    "            if(x1+(v1*count) == x2+(v2*count)):\n",
    "                print('YES')\n",
    "                return\n",
    "            count += 1\n",
    "        print('NO')"
   ]
  },
  {
   "cell_type": "code",
   "execution_count": 47,
   "metadata": {},
   "outputs": [
    {
     "name": "stdout",
     "output_type": "stream",
     "text": [
      "NO\n"
     ]
    }
   ],
   "source": [
    "kangaroo(21,6,47,3)"
   ]
  },
  {
   "cell_type": "code",
   "execution_count": 58,
   "metadata": {},
   "outputs": [],
   "source": [
    "def breakingRecords(scores):\n",
    "    highestscore=[]\n",
    "    lowestscore=[]\n",
    "    temp=[]\n",
    "    maxrec=0\n",
    "    minrec=0\n",
    "    for x in scores:\n",
    "        if(len(highestscore) > 0 and x > max(highestscore)):\n",
    "            maxrec += 1\n",
    "        if(len(lowestscore) > 0 and  x < min(lowestscore)):\n",
    "            minrec += 1\n",
    "        temp.append(x)\n",
    "        highestscore.append(max(temp))\n",
    "        lowestscore.append(min(temp))\n",
    "    print(maxrec,minrec)\n",
    "\n"
   ]
  },
  {
   "cell_type": "code",
   "execution_count": 59,
   "metadata": {},
   "outputs": [
    {
     "name": "stdout",
     "output_type": "stream",
     "text": [
      "4 0\n"
     ]
    }
   ],
   "source": [
    "breakingRecords([3, 4, 21, 36, 10, 28, 35, 5 ,24, 42])"
   ]
  },
  {
   "cell_type": "code",
   "execution_count": 76,
   "metadata": {},
   "outputs": [],
   "source": [
    "def count_substring(string, sub_string):\n",
    "    if (len(sub_string) > len(string)):\n",
    "        return 0\n",
    "    else:\n",
    "        lensub = len(sub_string)\n",
    "        count = 0\n",
    "        temp = 0\n",
    "        while(temp <= len(string)):\n",
    "            if (string[temp:lensub+temp] == sub_string):\n",
    "                print(string[temp:lensub+temp])\n",
    "                count += 1\n",
    "                temp += lensub-1\n",
    "            else:\n",
    "                temp += 1\n",
    "        return count"
   ]
  },
  {
   "cell_type": "code",
   "execution_count": 77,
   "metadata": {},
   "outputs": [
    {
     "name": "stdout",
     "output_type": "stream",
     "text": [
      "CDC\n",
      "CDC\n"
     ]
    },
    {
     "data": {
      "text/plain": [
       "2"
      ]
     },
     "execution_count": 77,
     "metadata": {},
     "output_type": "execute_result"
    }
   ],
   "source": [
    "count_substring('ABCDCDC','CDC')"
   ]
  },
  {
   "cell_type": "code",
   "execution_count": 93,
   "metadata": {},
   "outputs": [
    {
     "name": "stdout",
     "output_type": "stream",
     "text": [
      "True\n"
     ]
    }
   ],
   "source": [
    "In the first line, print True if  has any alphanumeric characters. Otherwise, print False.\n",
    "In the second line, print True if  has any alphabetical characters. Otherwise, print False.\n",
    "In the third line, print True if  has any digits. Otherwise, print False.\n",
    "In the fourth line, print True if  has any lowercase characters. Otherwise, print False.\n",
    "In the fifth line, print True if  has any uppercase characters. Otherwise, print False."
   ]
  },
  {
   "cell_type": "code",
   "execution_count": 106,
   "metadata": {},
   "outputs": [
    {
     "name": "stdout",
     "output_type": "stream",
     "text": [
      "False\n",
      "False\n",
      "False\n",
      "False\n",
      "False\n"
     ]
    }
   ],
   "source": [
    "s = '$'\n",
    "print(len([x for x in s if x.isalnum()])>0)\n",
    "print(len([x for x in s if x.isalpha()])>0)\n",
    "print(len([x for x in s if x.isdigit()])>0)\n",
    "print(len([x for x in s if x.islower()])>0)\n",
    "print(len([x for x in s if x.isupper()])>0)"
   ]
  },
  {
   "cell_type": "code",
   "execution_count": 122,
   "metadata": {},
   "outputs": [],
   "source": [
    "def largestseq(lst):\n",
    "    nums={x:0 for x in lst}\n",
    "    left=right=0\n",
    "    for num in lst:\n",
    "        if nums[num] == 0:\n",
    "            left_count = num-1\n",
    "            right_count = num+1\n",
    "            while(left_count  in nums):\n",
    "                nums[left_count]= 1\n",
    "                left_count -= 1\n",
    "                \n",
    "            left_count += 1\n",
    "            while(right_count  in nums):\n",
    "                nums[right_count]= 1\n",
    "                right_count += 1\n",
    "                \n",
    "            right_count -=1\n",
    "            if (right-left) <(right_count-left_count):\n",
    "                right = right_count\n",
    "                left = left_count\n",
    "    return (left,right)\n",
    "                    "
   ]
  },
  {
   "cell_type": "code",
   "execution_count": 127,
   "metadata": {},
   "outputs": [
    {
     "name": "stdout",
     "output_type": "stream",
     "text": [
      "6\n",
      "10\n"
     ]
    }
   ],
   "source": [
    "(left,right) = largestseq([1,2,3,4,6,7,9,8,10])\n",
    "print(left)\n",
    "print(right)"
   ]
  },
  {
   "cell_type": "code",
   "execution_count": 131,
   "metadata": {},
   "outputs": [
    {
     "name": "stdout",
     "output_type": "stream",
     "text": [
      "0 --> 0 --> 1\n",
      "1 --> 1 --> 2\n",
      "2 --> 2 --> 3\n"
     ]
    }
   ],
   "source": [
    "lst=[1,2,3,4]\n",
    "di = {0:1,1:2,2:3}\n",
    "for i,a in enumerate(di):\n",
    "    print(i,'-->',a,'-->',di[a])"
   ]
  },
  {
   "cell_type": "code",
   "execution_count": 139,
   "metadata": {},
   "outputs": [
    {
     "name": "stdout",
     "output_type": "stream",
     "text": [
      "(1, 2, 3)\n",
      "(2, 3, 4)\n",
      "(3, 4, 5)\n",
      "(4, 5, 6)\n"
     ]
    }
   ],
   "source": [
    "lst1=[1,2,3,4]\n",
    "lst2=[2,3,4,5]\n",
    "lst3=[3,4,5,6]\n",
    "for a in zip(lst1,lst2,lst3):\n",
    "    print(a)"
   ]
  },
  {
   "cell_type": "code",
   "execution_count": 146,
   "metadata": {},
   "outputs": [
    {
     "name": "stdout",
     "output_type": "stream",
     "text": [
      "10 -10\n",
      "-10 10\n"
     ]
    }
   ],
   "source": [
    "x=10 \n",
    "y=-10\n",
    "print(x,y)\n",
    "x,y = y,x\n",
    "print(x,y)"
   ]
  },
  {
   "cell_type": "code",
   "execution_count": 155,
   "metadata": {},
   "outputs": [
    {
     "data": {
      "text/plain": [
       "1"
      ]
     },
     "execution_count": 155,
     "metadata": {},
     "output_type": "execute_result"
    }
   ],
   "source": [
    "di = {0:1,1:2,2:3}\n",
    "di.get(0,'no')"
   ]
  },
  {
   "cell_type": "code",
   "execution_count": 99,
   "metadata": {},
   "outputs": [],
   "source": [
    "import re\n",
    "\n",
    "txt = \"The rain 22 in Spain3 \"\n",
    "\n",
    "#Find all lower case characters alphabetically between \"a\" and \"m\":\n",
    "\n",
    "x = re.findall('^ra*', txt)\n",
    "if x:\n",
    "    print('yes')"
   ]
  },
  {
   "cell_type": "code",
   "execution_count": 70,
   "metadata": {},
   "outputs": [
    {
     "data": {
      "text/plain": [
       "['7', '4', '1', '10']"
      ]
     },
     "execution_count": 70,
     "metadata": {},
     "output_type": "execute_result"
    }
   ],
   "source": [
    "a=[7,4,1,10]\n",
    "b=[2,5,8,3]\n",
    "a = list(map(lambda x : str(x),a))\n",
    "b= [str(x) for x in b]\n",
    "#a = np.array(a).reshape((1,len(a)))\n",
    "b = np.array(b).reshape((len(b),1))\n",
    "\n",
    "a\n"
   ]
  },
  {
   "cell_type": "code",
   "execution_count": 39,
   "metadata": {},
   "outputs": [
    {
     "data": {
      "text/plain": [
       "8"
      ]
     },
     "execution_count": 39,
     "metadata": {},
     "output_type": "execute_result"
    }
   ],
   "source": [
    "for x in a:\n",
    "    for y in b:\n",
    "        print ('{} X {}'.format(x,y))"
   ]
  },
  {
   "cell_type": "code",
   "execution_count": 251,
   "metadata": {},
   "outputs": [],
   "source": [
    "def birthday(s, d, m):\n",
    "    # take m len sets\n",
    "    output=[]\n",
    "    for x in range(len(s)):\n",
    "        print(s[x:m+x])\n",
    "        if sum(s[x:m+x]) == d:\n",
    "            output.append(s[x:m+x])\n",
    "    return (len(output))"
   ]
  },
  {
   "cell_type": "code",
   "execution_count": 252,
   "metadata": {},
   "outputs": [
    {
     "name": "stdout",
     "output_type": "stream",
     "text": [
      "[2, 2]\n",
      "[2, 1]\n",
      "[1, 3]\n",
      "[3, 2]\n",
      "[2]\n",
      "2\n"
     ]
    }
   ],
   "source": [
    "birthday([2,2,1,3,2],4,2)"
   ]
  },
  {
   "cell_type": "code",
   "execution_count": 432,
   "metadata": {},
   "outputs": [],
   "source": [
    "def divisibleSumPairs(n, k, s):\n",
    "    result=0\n",
    "    for i,ele in enumerate(s):\n",
    "        for j in s[i+1:]:\n",
    "            if( (j+ele) % k ==0 ):\n",
    "                result += 1\n",
    "    return(result)\n",
    "        \n"
   ]
  },
  {
   "cell_type": "code",
   "execution_count": 433,
   "metadata": {},
   "outputs": [
    {
     "name": "stdout",
     "output_type": "stream",
     "text": [
      "5\n"
     ]
    }
   ],
   "source": [
    "divisibleSumPairs(1,3,[1,3,2,6,1,2])"
   ]
  },
  {
   "cell_type": "code",
   "execution_count": 251,
   "metadata": {},
   "outputs": [],
   "source": [
    "def migratoryBirds(arr):\n",
    "    counts={k:0 for k in range(1,6)}\n",
    "    for i in range(1,6):\n",
    "        ct = arr.count(i)\n",
    "        if ct>1:\n",
    "            counts[i] = ct\n",
    "    toprank = max( [v for (k,v) in counts.items()])\n",
    "    return(min([key for key,value in counts.items() if counts[key]==toprank]))"
   ]
  },
  {
   "cell_type": "code",
   "execution_count": 252,
   "metadata": {},
   "outputs": [
    {
     "name": "stdout",
     "output_type": "stream",
     "text": [
      "3\n"
     ]
    }
   ],
   "source": [
    "migratoryBirds([1, 2, 3, 4, 5 ,4, 3, 2, 1 ,3, 4])"
   ]
  },
  {
   "cell_type": "code",
   "execution_count": 441,
   "metadata": {},
   "outputs": [
    {
     "data": {
      "text/plain": [
       "[1, 2, 3, 4, 5]"
      ]
     },
     "execution_count": 441,
     "metadata": {},
     "output_type": "execute_result"
    }
   ],
   "source": [
    "[x for x in range(1,6)]"
   ]
  },
  {
   "cell_type": "code",
   "execution_count": 195,
   "metadata": {},
   "outputs": [],
   "source": [
    "def climbingLeaderboard(scores, alice):\n",
    "    rank={}\n",
    "    tempscore = set(scores)\n",
    "    for i in range(1,len(tempscore)):\n",
    "        x = max(tempscore)\n",
    "        rank[x]=i\n",
    "        tempscore.remove(x)\n",
    "    print(rank)\n",
    "    print(alice)\n",
    "    keys = ([k for k in rank])\n",
    "    print(keys)\n",
    "    tempkey=0\n",
    "    alicerank=[]\n",
    "    for x in alice:\n",
    "        print('for x : ',x)\n",
    "    alicerank = np.digitize(alice,keys,right=True)\n",
    "    print([x+1 for x in  alicerank])\n",
    "                \n",
    "    \n",
    "        \n",
    "        "
   ]
  },
  {
   "cell_type": "code",
   "execution_count": 196,
   "metadata": {},
   "outputs": [
    {
     "name": "stdout",
     "output_type": "stream",
     "text": [
      "{100: 1, 50: 2, 40: 3, 20: 4}\n",
      "[5, 25, 50, 120]\n",
      "[100, 50, 40, 20]\n",
      "for x :  5\n",
      "for x :  25\n",
      "for x :  50\n",
      "for x :  120\n",
      "[5, 4, 3, 1]\n"
     ]
    }
   ],
   "source": [
    "scores = list(map(lambda x : int(x),'100 100 50 40 40 20 10'.split(' ')))\n",
    "alice=list(map(lambda x : int(x),'5 25 50 120'.split(' ')))\n",
    "climbingLeaderboard(scores,alice)"
   ]
  },
  {
   "cell_type": "code",
   "execution_count": 115,
   "metadata": {},
   "outputs": [],
   "source": [
    "score={10,20,10}\n",
    "score.remove(10)"
   ]
  },
  {
   "cell_type": "code",
   "execution_count": 134,
   "metadata": {},
   "outputs": [
    {
     "data": {
      "text/plain": [
       "2"
      ]
     },
     "execution_count": 134,
     "metadata": {},
     "output_type": "execute_result"
    }
   ],
   "source": [
    "score={1:2}\n",
    "score[1]"
   ]
  },
  {
   "cell_type": "code",
   "execution_count": 199,
   "metadata": {},
   "outputs": [
    {
     "data": {
      "text/plain": [
       "True"
      ]
     },
     "execution_count": 199,
     "metadata": {},
     "output_type": "execute_result"
    }
   ],
   "source": [
    "'123'.isdigit()"
   ]
  },
  {
   "cell_type": "code",
   "execution_count": 296,
   "metadata": {},
   "outputs": [],
   "source": [
    "def bonAppetit(bill, k, b):\n",
    "    actual_bill = sum(bill)\n",
    "    if k>=0:\n",
    "        if  (actual_bill-bill[k])/2 == b:\n",
    "            print 'Bon Appetit'\n",
    "        else:\n",
    "            print b-(sum(bill)-bill[k])/2\n",
    "            "
   ]
  },
  {
   "cell_type": "code",
   "execution_count": 298,
   "metadata": {},
   "outputs": [
    {
     "name": "stdout",
     "output_type": "stream",
     "text": [
      "14\n",
      "5.0\n"
     ]
    }
   ],
   "source": [
    "bill=list(map(lambda x : int(x),'3 10 2 9'.split(' ')))\n",
    "k=1\n",
    "b=12\n",
    "print(bonAppetit(bill,k,b))"
   ]
  },
  {
   "cell_type": "code",
   "execution_count": 314,
   "metadata": {},
   "outputs": [],
   "source": [
    "sentence=\"hi'how\"\n",
    "def reverse_words_order_and_swap_cases(sentence):\n",
    "    words = sentence.split(\" \")[::-1]\n",
    "    result=[]\n",
    "    for word in words:\n",
    "        result.append(''.join(c.lower() if c.isupper() else c.upper() for c in word))\n",
    "    return(' '.join(result))"
   ]
  },
  {
   "cell_type": "code",
   "execution_count": 315,
   "metadata": {},
   "outputs": [
    {
     "data": {
      "text/plain": [
       "'Coding IS Awesome'"
      ]
     },
     "execution_count": 315,
     "metadata": {},
     "output_type": "execute_result"
    }
   ],
   "source": [
    "sentence=\"aWESOME is cODING\"\n",
    "reverse_words_order_and_swap_cases(sentence)"
   ]
  },
  {
   "cell_type": "code",
   "execution_count": 316,
   "metadata": {},
   "outputs": [],
   "source": [
    "class Car:\n",
    "    def __init__(self,maxspeed,unitsmaxspeed):\n",
    "        self.maxspeed = maxspeed\n",
    "        self.unitsmaxspeed = unitsmaxspeed\n",
    "    def __str__(self):\n",
    "        return('Car with the maximum speed of {} {}'.format(self.maxspeed,self.unitsmaxspeed))\n"
   ]
  },
  {
   "cell_type": "code",
   "execution_count": 319,
   "metadata": {},
   "outputs": [
    {
     "name": "stdout",
     "output_type": "stream",
     "text": [
      "Car with the maximum speed of 120 kmph\n"
     ]
    }
   ],
   "source": [
    "obj = Car(120,'kmph')\n",
    "print(obj)"
   ]
  },
  {
   "cell_type": "code",
   "execution_count": 320,
   "metadata": {},
   "outputs": [],
   "source": [
    "class Boat:\n",
    "    def __init__(self,maxspeed):\n",
    "        self.maxspeed = maxspeed\n",
    "    def __str__(self):\n",
    "        return('Boat with the maximum speed of {} knots'.format(self.maxspeed))"
   ]
  },
  {
   "cell_type": "code",
   "execution_count": 321,
   "metadata": {},
   "outputs": [
    {
     "name": "stdout",
     "output_type": "stream",
     "text": [
      "Boat with the maximum speed of 120 knots\n"
     ]
    }
   ],
   "source": [
    "obj = Boat(120)\n",
    "print(obj)"
   ]
  },
  {
   "cell_type": "code",
   "execution_count": null,
   "metadata": {},
   "outputs": [],
   "source": []
  }
 ],
 "metadata": {
  "kernelspec": {
   "display_name": "Python 3",
   "language": "python",
   "name": "python3"
  },
  "language_info": {
   "codemirror_mode": {
    "name": "ipython",
    "version": 3
   },
   "file_extension": ".py",
   "mimetype": "text/x-python",
   "name": "python",
   "nbconvert_exporter": "python",
   "pygments_lexer": "ipython3",
   "version": "3.6.10"
  }
 },
 "nbformat": 4,
 "nbformat_minor": 4
}
