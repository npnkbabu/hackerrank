{
 "cells": [
  {
   "cell_type": "code",
   "execution_count": 159,
   "metadata": {},
   "outputs": [],
   "source": [
    "#Apple and Orange\n",
    "#https://www.hackerrank.com/challenges/apple-and-orange/problem\n",
    "import math\n",
    "import os\n",
    "import random\n",
    "import re\n",
    "import sys\n",
    "import numpy as np\n",
    "import pandas as pd\n",
    "def countApplesAndOranges(s, t, a, b, apples, oranges):\n",
    "    print(sum(s <= a + d <= t for d in apples))\n",
    "    print(sum(s <= b + d <= t for d in oranges))"
   ]
  },
  {
   "cell_type": "code",
   "execution_count": 42,
   "metadata": {},
   "outputs": [
    {
     "name": "stdout",
     "output_type": "stream",
     "text": [
      "0\n",
      "0\n"
     ]
    }
   ],
   "source": [
    "#countApplesAndOranges(7,11,5,15,[-2,2,1],[5,-6])\n",
    "countApplesAndOranges(2,3,1,5,[-2],[-1])"
   ]
  },
  {
   "cell_type": "code",
   "execution_count": 46,
   "metadata": {},
   "outputs": [],
   "source": [
    "def kangaroo(x1, v1, x2, v2):\n",
    "    if(x1 > x2 and v1 > v2):\n",
    "        print('NO')\n",
    "    elif(x2>x1 and v2>v1):\n",
    "        print('NO')\n",
    "    else:\n",
    "        #max x1,x2=10000\n",
    "        count=1\n",
    "        while(count <= 10000):\n",
    "            if(x1+(v1*count) == x2+(v2*count)):\n",
    "                print('YES')\n",
    "                return\n",
    "            count += 1\n",
    "        print('NO')"
   ]
  },
  {
   "cell_type": "code",
   "execution_count": 47,
   "metadata": {},
   "outputs": [
    {
     "name": "stdout",
     "output_type": "stream",
     "text": [
      "NO\n"
     ]
    }
   ],
   "source": [
    "kangaroo(21,6,47,3)"
   ]
  },
  {
   "cell_type": "code",
   "execution_count": 58,
   "metadata": {},
   "outputs": [],
   "source": [
    "def breakingRecords(scores):\n",
    "    highestscore=[]\n",
    "    lowestscore=[]\n",
    "    temp=[]\n",
    "    maxrec=0\n",
    "    minrec=0\n",
    "    for x in scores:\n",
    "        if(len(highestscore) > 0 and x > max(highestscore)):\n",
    "            maxrec += 1\n",
    "        if(len(lowestscore) > 0 and  x < min(lowestscore)):\n",
    "            minrec += 1\n",
    "        temp.append(x)\n",
    "        highestscore.append(max(temp))\n",
    "        lowestscore.append(min(temp))\n",
    "    print(maxrec,minrec)\n",
    "\n"
   ]
  },
  {
   "cell_type": "code",
   "execution_count": 59,
   "metadata": {},
   "outputs": [
    {
     "name": "stdout",
     "output_type": "stream",
     "text": [
      "4 0\n"
     ]
    }
   ],
   "source": [
    "breakingRecords([3, 4, 21, 36, 10, 28, 35, 5 ,24, 42])"
   ]
  },
  {
   "cell_type": "code",
   "execution_count": 76,
   "metadata": {},
   "outputs": [],
   "source": [
    "def count_substring(string, sub_string):\n",
    "    if (len(sub_string) > len(string)):\n",
    "        return 0\n",
    "    else:\n",
    "        lensub = len(sub_string)\n",
    "        count = 0\n",
    "        temp = 0\n",
    "        while(temp <= len(string)):\n",
    "            if (string[temp:lensub+temp] == sub_string):\n",
    "                print(string[temp:lensub+temp])\n",
    "                count += 1\n",
    "                temp += lensub-1\n",
    "            else:\n",
    "                temp += 1\n",
    "        return count"
   ]
  },
  {
   "cell_type": "code",
   "execution_count": 77,
   "metadata": {},
   "outputs": [
    {
     "name": "stdout",
     "output_type": "stream",
     "text": [
      "CDC\n",
      "CDC\n"
     ]
    },
    {
     "data": {
      "text/plain": [
       "2"
      ]
     },
     "execution_count": 77,
     "metadata": {},
     "output_type": "execute_result"
    }
   ],
   "source": [
    "count_substring('ABCDCDC','CDC')"
   ]
  },
  {
   "cell_type": "code",
   "execution_count": 93,
   "metadata": {},
   "outputs": [
    {
     "name": "stdout",
     "output_type": "stream",
     "text": [
      "True\n"
     ]
    }
   ],
   "source": [
    "In the first line, print True if  has any alphanumeric characters. Otherwise, print False.\n",
    "In the second line, print True if  has any alphabetical characters. Otherwise, print False.\n",
    "In the third line, print True if  has any digits. Otherwise, print False.\n",
    "In the fourth line, print True if  has any lowercase characters. Otherwise, print False.\n",
    "In the fifth line, print True if  has any uppercase characters. Otherwise, print False."
   ]
  },
  {
   "cell_type": "code",
   "execution_count": 106,
   "metadata": {},
   "outputs": [
    {
     "name": "stdout",
     "output_type": "stream",
     "text": [
      "False\n",
      "False\n",
      "False\n",
      "False\n",
      "False\n"
     ]
    }
   ],
   "source": [
    "s = '$'\n",
    "print(len([x for x in s if x.isalnum()])>0)\n",
    "print(len([x for x in s if x.isalpha()])>0)\n",
    "print(len([x for x in s if x.isdigit()])>0)\n",
    "print(len([x for x in s if x.islower()])>0)\n",
    "print(len([x for x in s if x.isupper()])>0)"
   ]
  },
  {
   "cell_type": "code",
   "execution_count": 122,
   "metadata": {},
   "outputs": [],
   "source": [
    "def largestseq(lst):\n",
    "    nums={x:0 for x in lst}\n",
    "    left=right=0\n",
    "    for num in lst:\n",
    "        if nums[num] == 0:\n",
    "            left_count = num-1\n",
    "            right_count = num+1\n",
    "            while(left_count  in nums):\n",
    "                nums[left_count]= 1\n",
    "                left_count -= 1\n",
    "                \n",
    "            left_count += 1\n",
    "            while(right_count  in nums):\n",
    "                nums[right_count]= 1\n",
    "                right_count += 1\n",
    "                \n",
    "            right_count -=1\n",
    "            if (right-left) <(right_count-left_count):\n",
    "                right = right_count\n",
    "                left = left_count\n",
    "    return (left,right)\n",
    "                    "
   ]
  },
  {
   "cell_type": "code",
   "execution_count": 127,
   "metadata": {},
   "outputs": [
    {
     "name": "stdout",
     "output_type": "stream",
     "text": [
      "6\n",
      "10\n"
     ]
    }
   ],
   "source": [
    "(left,right) = largestseq([1,2,3,4,6,7,9,8,10])\n",
    "print(left)\n",
    "print(right)"
   ]
  },
  {
   "cell_type": "code",
   "execution_count": 131,
   "metadata": {},
   "outputs": [
    {
     "name": "stdout",
     "output_type": "stream",
     "text": [
      "0 --> 0 --> 1\n",
      "1 --> 1 --> 2\n",
      "2 --> 2 --> 3\n"
     ]
    }
   ],
   "source": [
    "lst=[1,2,3,4]\n",
    "di = {0:1,1:2,2:3}\n",
    "for i,a in enumerate(di):\n",
    "    print(i,'-->',a,'-->',di[a])"
   ]
  },
  {
   "cell_type": "code",
   "execution_count": 139,
   "metadata": {},
   "outputs": [
    {
     "name": "stdout",
     "output_type": "stream",
     "text": [
      "(1, 2, 3)\n",
      "(2, 3, 4)\n",
      "(3, 4, 5)\n",
      "(4, 5, 6)\n"
     ]
    }
   ],
   "source": [
    "lst1=[1,2,3,4]\n",
    "lst2=[2,3,4,5]\n",
    "lst3=[3,4,5,6]\n",
    "for a in zip(lst1,lst2,lst3):\n",
    "    print(a)"
   ]
  },
  {
   "cell_type": "code",
   "execution_count": 146,
   "metadata": {},
   "outputs": [
    {
     "name": "stdout",
     "output_type": "stream",
     "text": [
      "10 -10\n",
      "-10 10\n"
     ]
    }
   ],
   "source": [
    "x=10 \n",
    "y=-10\n",
    "print(x,y)\n",
    "x,y = y,x\n",
    "print(x,y)"
   ]
  },
  {
   "cell_type": "code",
   "execution_count": 155,
   "metadata": {},
   "outputs": [
    {
     "data": {
      "text/plain": [
       "1"
      ]
     },
     "execution_count": 155,
     "metadata": {},
     "output_type": "execute_result"
    }
   ],
   "source": [
    "di = {0:1,1:2,2:3}\n",
    "di.get(0,'no')"
   ]
  },
  {
   "cell_type": "code",
   "execution_count": 157,
   "metadata": {},
   "outputs": [
    {
     "ename": "AttributeError",
     "evalue": "'list' object has no attribute 'has'",
     "output_type": "error",
     "traceback": [
      "\u001b[1;31m---------------------------------------------------------------------------\u001b[0m",
      "\u001b[1;31mAttributeError\u001b[0m                            Traceback (most recent call last)",
      "\u001b[1;32m<ipython-input-157-b95a96649dc0>\u001b[0m in \u001b[0;36m<module>\u001b[1;34m\u001b[0m\n\u001b[0;32m      1\u001b[0m \u001b[0mlst\u001b[0m\u001b[1;33m=\u001b[0m\u001b[1;33m[\u001b[0m\u001b[1;36m1\u001b[0m\u001b[1;33m,\u001b[0m\u001b[1;36m2\u001b[0m\u001b[1;33m,\u001b[0m\u001b[1;36m3\u001b[0m\u001b[1;33m,\u001b[0m\u001b[1;36m4\u001b[0m\u001b[1;33m]\u001b[0m\u001b[1;33m\u001b[0m\u001b[1;33m\u001b[0m\u001b[0m\n\u001b[1;32m----> 2\u001b[1;33m \u001b[0mlst\u001b[0m\u001b[1;33m.\u001b[0m\u001b[0mhas\u001b[0m\u001b[1;33m(\u001b[0m\u001b[1;36m1\u001b[0m\u001b[1;33m)\u001b[0m\u001b[1;33m\u001b[0m\u001b[1;33m\u001b[0m\u001b[0m\n\u001b[0m",
      "\u001b[1;31mAttributeError\u001b[0m: 'list' object has no attribute 'has'"
     ]
    }
   ],
   "source": [
    "lst=[1,2,3,4]\n"
   ]
  },
  {
   "cell_type": "code",
   "execution_count": 192,
   "metadata": {},
   "outputs": [
    {
     "data": {
      "text/plain": [
       "array([[11, 12, 15, 14],\n",
       "       [ 8,  9, 12, 11],\n",
       "       [ 5,  6,  9,  8],\n",
       "       [14, 15, 18, 17]])"
      ]
     },
     "execution_count": 192,
     "metadata": {},
     "output_type": "execute_result"
    }
   ],
   "source": [
    "a=[7,4,1,10]\n",
    "b=[4,5,8,7]\n",
    "a = np.array(a).reshape((len(a),1))\n",
    "b = np.array(b).reshape((1,len(b)))\n",
    "c = a+b\n",
    "c"
   ]
  },
  {
   "cell_type": "code",
   "execution_count": 193,
   "metadata": {},
   "outputs": [
    {
     "data": {
      "text/plain": [
       "array([15, 14, 14, 15, 18, 17])"
      ]
     },
     "execution_count": 193,
     "metadata": {},
     "output_type": "execute_result"
    }
   ],
   "source": [
    "c[c>13]"
   ]
  },
  {
   "cell_type": "code",
   "execution_count": 251,
   "metadata": {},
   "outputs": [],
   "source": [
    "def birthday(s, d, m):\n",
    "    # take m len sets\n",
    "    output=[]\n",
    "    for x in range(len(s)):\n",
    "        print(s[x:m+x])\n",
    "        if sum(s[x:m+x]) == d:\n",
    "            output.append(s[x:m+x])\n",
    "    return (len(output))"
   ]
  },
  {
   "cell_type": "code",
   "execution_count": 252,
   "metadata": {},
   "outputs": [
    {
     "name": "stdout",
     "output_type": "stream",
     "text": [
      "[2, 2]\n",
      "[2, 1]\n",
      "[1, 3]\n",
      "[3, 2]\n",
      "[2]\n",
      "2\n"
     ]
    }
   ],
   "source": [
    "birthday([2,2,1,3,2],4,2)"
   ]
  },
  {
   "cell_type": "code",
   "execution_count": 432,
   "metadata": {},
   "outputs": [],
   "source": [
    "def divisibleSumPairs(n, k, s):\n",
    "    result=0\n",
    "    for i,ele in enumerate(s):\n",
    "        for j in s[i+1:]:\n",
    "            if( (j+ele) % k ==0 ):\n",
    "                result += 1\n",
    "    return(result)\n",
    "        \n"
   ]
  },
  {
   "cell_type": "code",
   "execution_count": 433,
   "metadata": {},
   "outputs": [
    {
     "name": "stdout",
     "output_type": "stream",
     "text": [
      "5\n"
     ]
    }
   ],
   "source": [
    "divisibleSumPairs(1,3,[1,3,2,6,1,2])"
   ]
  },
  {
   "cell_type": "code",
   "execution_count": 561,
   "metadata": {},
   "outputs": [],
   "source": [
    "def migratoryBirds(arr):\n",
    "    counts={k:0 for k in range(1,6)}\n",
    "    for i in range(1,6):\n",
    "        ct = arr.count(i)\n",
    "        if ct>1:\n",
    "            counts[i] = ct\n",
    "    print(sorted(counts.items(), key=lambda x: counts[1],reverse=True))\n",
    "    #return(min([k for k,v in sorted(counts.items(), key=lambda x: counts[1]) if v>0]))\n",
    "    "
   ]
  },
  {
   "cell_type": "code",
   "execution_count": 562,
   "metadata": {},
   "outputs": [
    {
     "name": "stdout",
     "output_type": "stream",
     "text": [
      "[(1, 2), (2, 2), (3, 3), (4, 3), (5, 0)]\n"
     ]
    }
   ],
   "source": [
    "migratoryBirds([1, 2, 3, 4, 5 ,4, 3, 2, 1 ,3, 4])"
   ]
  },
  {
   "cell_type": "code",
   "execution_count": 441,
   "metadata": {},
   "outputs": [
    {
     "data": {
      "text/plain": [
       "[1, 2, 3, 4, 5]"
      ]
     },
     "execution_count": 441,
     "metadata": {},
     "output_type": "execute_result"
    }
   ],
   "source": [
    "[x for x in range(1,6)]"
   ]
  },
  {
   "cell_type": "code",
   "execution_count": null,
   "metadata": {},
   "outputs": [],
   "source": []
  }
 ],
 "metadata": {
  "kernelspec": {
   "display_name": "Python 3",
   "language": "python",
   "name": "python3"
  },
  "language_info": {
   "codemirror_mode": {
    "name": "ipython",
    "version": 3
   },
   "file_extension": ".py",
   "mimetype": "text/x-python",
   "name": "python",
   "nbconvert_exporter": "python",
   "pygments_lexer": "ipython3",
   "version": "3.6.10"
  }
 },
 "nbformat": 4,
 "nbformat_minor": 4
}
