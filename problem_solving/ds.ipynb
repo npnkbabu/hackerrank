{
 "cells": [
  {
   "cell_type": "code",
   "execution_count": 39,
   "metadata": {},
   "outputs": [
    {
     "name": "stdout",
     "output_type": "stream",
     "text": [
      "3\n"
     ]
    }
   ],
   "source": [
    "#Between Two Sets\n",
    "#LCM of arr1 and GCD of arr2\n",
    "from functools import reduce\n",
    "def GCD(a,b):\n",
    "    while a % b != 0 :\n",
    "        a,b = b,(a%b)\n",
    "    return b\n",
    "\n",
    "def LCM(a,b):\n",
    "    return (abs(a*b) / GCD(a,b))\n",
    "\n",
    "def bts(arr1,arr2):\n",
    "    lcm = reduce(LCM,arr1)\n",
    "    gcd = reduce(GCD,arr2)\n",
    "    temp = lcm\n",
    "    counter = 0\n",
    "    multiple_of_lcm = lcm\n",
    "    while multiple_of_lcm <= gcd:\n",
    "        if gcd % multiple_of_lcm == 0:\n",
    "            counter += 1\n",
    "        multiple_of_lcm += lcm\n",
    "\n",
    "    print(counter)\n",
    "        \n",
    "bts([2,4],[16,32,96])"
   ]
  },
  {
   "cell_type": "code",
   "execution_count": 74,
   "metadata": {},
   "outputs": [
    {
     "data": {
      "text/plain": [
       "'26.09.1918'"
      ]
     },
     "execution_count": 74,
     "metadata": {},
     "output_type": "execute_result"
    }
   ],
   "source": [
    "#Day of the Programmer\n",
    "import datetime\n",
    "def isLeap(yr):\n",
    "    if yr >1918:\n",
    "        if (yr % 400 == 0)  or (yr % 4 == 0 and yr % 100 != 0):\n",
    "                return True\n",
    "    else:\n",
    "        if yr % 4 == 0 :\n",
    "            return True\n",
    "    return False\n",
    "\n",
    "def dayPrg(yr):\n",
    "    #get 256th day date\n",
    "    # 2017 then 13.09.2017\n",
    "    if yr == 1918:\n",
    "        return '26.09.1918'\n",
    "    datenormal = 256//30\n",
    "    print(isLeap(yr))\n",
    "    normYrdaysFor8Months = (datenormal*30)+5+(-1 if isLeap(yr) else -2)\n",
    "    #get no.of days untill 8 months untill Aug\n",
    "    print(normYrdaysFor8Months)\n",
    "    augdateday = 256 - normYrdaysFor8Months\n",
    "    return '{}.{}.{}'.format(augdateday,'09',yr) \n",
    "    \n",
    "    \n",
    "dayPrg(1918)"
   ]
  },
  {
   "cell_type": "code",
   "execution_count": 118,
   "metadata": {},
   "outputs": [
    {
     "name": "stdout",
     "output_type": "stream",
     "text": [
      "[0, 1, 2]\n",
      "pgnum  4\n",
      "front :  False\n",
      "0\n"
     ]
    }
   ],
   "source": [
    "#Drawing Book\n",
    "def bk(totalpgs,pgnum):\n",
    "    isfront = True if pgnum < totalpgs//2 else False\n",
    "    temp = totalpgs//2 \n",
    "    pgidx = []\n",
    "    for x in range(temp+1):\n",
    "        pgidx.append(x)\n",
    "    count=0\n",
    "    print(pgidx)\n",
    "    print('pgnum ',pgnum)\n",
    "    print('front : ',isfront)\n",
    "    for x in range(len(pgidx)):\n",
    "        if isfront:\n",
    "            if (pgnum > (pgidx[x]*2+1)):\n",
    "                count += 1\n",
    "            else:\n",
    "                break\n",
    "        else:\n",
    "            num=pgidx.pop()\n",
    "            if (pgnum < (( num*2)   )):\n",
    "                count += 1\n",
    "            else:\n",
    "                break\n",
    "    \n",
    "    return(count)\n",
    "        \n",
    "bk(5,4)"
   ]
  },
  {
   "cell_type": "code",
   "execution_count": 35,
   "metadata": {},
   "outputs": [
    {
     "data": {
      "text/plain": [
       "2"
      ]
     },
     "execution_count": 35,
     "metadata": {},
     "output_type": "execute_result"
    }
   ],
   "source": [
    "#Counting Valleys\n",
    "def countingValleys(n, s):\n",
    "    start=True\n",
    "    sealevel = valley = 0\n",
    "    for x in s:\n",
    "        if x == 'U':\n",
    "            sealevel += 1\n",
    "        else: \n",
    "            sealevel -= 1\n",
    "        if x == 'U' and sealevel==0:\n",
    "            valley += 1\n",
    "    return valley\n",
    "            \n",
    "countingValleys(12,'DDUUDDUDUUUD')"
   ]
  },
  {
   "cell_type": "code",
   "execution_count": 80,
   "metadata": {},
   "outputs": [
    {
     "name": "stdout",
     "output_type": "stream",
     "text": [
      "6\n"
     ]
    }
   ],
   "source": [
    "def setsproduct(arr):\n",
    "    #get cross product sets\n",
    "    n = len(arr)\n",
    "    res = []\n",
    "    for i in range(n):\n",
    "        for j in range(i+1,n):\n",
    "            res.append((arr[i],arr[j]))\n",
    "            i += 1\n",
    "            break\n",
    "    print(sum([x[0]*x[1] for x in res]))\n",
    "    \n",
    "setsproduct([3,2])"
   ]
  },
  {
   "cell_type": "code",
   "execution_count": null,
   "metadata": {},
   "outputs": [],
   "source": []
  }
 ],
 "metadata": {
  "kernelspec": {
   "display_name": "Python 3",
   "language": "python",
   "name": "python3"
  },
  "language_info": {
   "codemirror_mode": {
    "name": "ipython",
    "version": 3
   },
   "file_extension": ".py",
   "mimetype": "text/x-python",
   "name": "python",
   "nbconvert_exporter": "python",
   "pygments_lexer": "ipython3",
   "version": "3.6.10"
  }
 },
 "nbformat": 4,
 "nbformat_minor": 4
}
